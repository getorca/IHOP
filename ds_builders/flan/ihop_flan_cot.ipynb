{
 "cells": [
  {
   "cell_type": "code",
   "execution_count": 1,
   "metadata": {},
   "outputs": [],
   "source": [
    "import polars as pl\n",
    "import os\n",
    "import random\n",
    "from pathlib import Path\n",
    "\n",
    "\n",
    "path = Path('./')\n",
    "proj_dir = f'{str(path.resolve().parents[1].absolute())}'\n",
    "outfile = f'{proj_dir}//datasets/flan/IHOP_Flan_CoT.jsonl'"
   ]
  },
  {
   "cell_type": "code",
   "execution_count": 2,
   "metadata": {},
   "outputs": [],
   "source": [
    "df = pl.DataFrame(\n",
    "    schema={\n",
    "        \"input\": pl.Utf8, \n",
    "        \"target\": pl.Utf8, \n",
    "        \"response\": pl.Utf8,\n",
    "        \"_task_origin\": pl.Utf8,\n",
    "        \"_task_type\": pl.Utf8,\n",
    "    }\n",
    ")\n"
   ]
  },
  {
   "cell_type": "code",
   "execution_count": 3,
   "metadata": {},
   "outputs": [],
   "source": [
    "# Cot Templates\n",
    "COT_PROMPTS = [\n",
    "    {\"prompt\": \"Let's think step by step below.\", \"type\": \"suffix\"},\n",
    "    {\"prompt\": \"Let's think step by step.\", \"type\": \"suffix\"},\n",
    "    {\"prompt\": \"Let’s work this out in a step by step way to be sure we have the right answer.\", \"type\": \"suffix\"},\n",
    "    {\"prompt\": \"Use reasoning to answer the following question.\", \"type\": \"suffix\"},\n",
    "    {\"prompt\": \"Let's be accurate as possible. Think before you answer.\", \"type\": \"suffix\"},\n",
    "    {\"prompt\": \"Please answer the following question by reasoning step-by-step.\", \"type\": \"suffix\"},\n",
    "    {\"prompt\": \"Step-by-step reasoning:\", \"type\": \"suffix\"},\n",
    "    {\"prompt\": \"A step-by-step solution is:\", \"type\": \"suffix\"},\n",
    "    {\"prompt\": \"Let's be accurate as possible and think first.\", \"type\": \"suffix\"},\n",
    "    {\"prompt\": \"Stream of thoughts:\", \"type\": \"suffix\"},\n",
    "    {\"prompt\": \"Step-by-step reasoning process below:\", \"type\": \"suffix\"},\n",
    "    {\"prompt\": \"Please answer and provide answer explanation.\", \"type\": \"suffix\"},\n",
    "    {\"prompt\": \"Think hard. Detailed solution:\", \"type\": \"suffix\"},\n",
    "    {\"prompt\": \"Reason slowly and give your answer.\", \"type\": \"suffix\"},\n",
    "    {\"prompt\": \"Answer the following question, with explanation first.\", \"type\": \"prefix\"},\n",
    "    {\"prompt\": \"I'll give you a question, please answer with step-by-step reasoning process.\", \"type\": \"prefix\"},\n",
    "    {\"prompt\": \"Use reasoning to lead to the answer of the following question:\", \"type\": \"prefix\"},\n",
    "    {\"prompt\": \"Please answer the following question by reasoning step-by-step.\", \"type\": \"prefix\"},\n",
    "    {\"prompt\": \"Use reasoning to answer the following question.\", \"type\": \"prefix\"},\n",
    "]\n",
    "\n"
   ]
  },
  {
   "cell_type": "code",
   "execution_count": 4,
   "metadata": {},
   "outputs": [],
   "source": [
    "# answer templates\n",
    "ANSWER_TEMPLATES = [\n",
    "    'The answer is',\n",
    "    'The answer:',\n",
    "    'So, the answer is',\n",
    "    'Final answer:',\n",
    "    'Thus, the answer is',\n",
    "    'So, the final answer is',\n",
    "    'The final answer:',\n",
    "    'Therefore, the answer is',\n",
    "]"
   ]
  },
  {
   "cell_type": "code",
   "execution_count": 5,
   "metadata": {},
   "outputs": [],
   "source": [
    "cot_types = {\n",
    "    \"gsm8k\": \"cot\",\n",
    "    \"strategyqa\": \"cot\",\n",
    "    \"creak\": \"cot\",\n",
    "    \"qasc\": \"cot\",\n",
    "    \"esnli\": \"cot\",\n",
    "    \"ecqa\": \"cot\",\n",
    "    \"sensemaking\": \"cot\",\n",
    "    \"aqua\": \"stream\",\n",
    "    \"qed\": \"stream\",\n",
    "}"
   ]
  },
  {
   "cell_type": "code",
   "execution_count": 6,
   "metadata": {},
   "outputs": [],
   "source": [
    "dir = f'{proj_dir}/datasets/flan/cot_data/'\n",
    "for file in os.listdir(dir):\n",
    "    ds_name = file.split('_')[0]\n",
    "    cot_type = cot_types[ds_name]\n",
    "    named = f\"flan_{cot_type}_{ds_name}\"\n",
    "    ldf = pl.read_csv(\n",
    "        f'{dir}{file}', \n",
    "        has_header=False, \n",
    "        separator='\\t',\n",
    "        new_columns=['input', 'target', 'response']\n",
    "    ).with_columns(\n",
    "        pl.lit(named).alias('_task_origin'),\n",
    "        pl.lit('CoT').alias('_task_type'),\n",
    "        pl.col(\"target\").cast(pl.Utf8)\n",
    "    )\n",
    "    df = df.vstack(ldf)\n"
   ]
  },
  {
   "cell_type": "code",
   "execution_count": 7,
   "metadata": {},
   "outputs": [],
   "source": [
    "def format_input(input):\n",
    "    rand_idx = random.randint(0, len(COT_PROMPTS)-1)\n",
    "    prompt = COT_PROMPTS[rand_idx]\n",
    "    if prompt['type'] == \"prefix\":\n",
    "        input = f\"{prompt['prompt']}\\n{input}\\n\"\n",
    "    elif prompt['type'] == \"suffix\":\n",
    "        input = f\"{input}\\n{prompt['prompt']}\"\n",
    "    # ToDo: handle formatting options\n",
    "    return input\n",
    "\n",
    "def format_response(x):\n",
    "    rand_answer = random.choice(ANSWER_TEMPLATES)\n",
    "    response = ''\n",
    "    for rx in x['response'].split('.')[:-1]:\n",
    "        response += f\"{rx.strip()}.\\n\\n\"\n",
    "    response += f\"{rand_answer} {x['target']}\"\n",
    "    return response\n",
    "\n",
    "df = df.drop_nulls().with_columns(\n",
    "    pl.col('input').apply(format_input),\n",
    "    pl.struct(target='target', response='response').apply(format_response).alias('response')\n",
    ")"
   ]
  },
  {
   "cell_type": "code",
   "execution_count": 8,
   "metadata": {},
   "outputs": [
    {
     "data": {
      "text/plain": [
       "'Reproduction is the process by which living things give rise to offspring.\\n\\nSex equals reproduction.\\n\\nSex is the process by which living things give rise to offspring.\\n\\nSo, the final answer is (D)'"
      ]
     },
     "execution_count": 8,
     "metadata": {},
     "output_type": "execute_result"
    }
   ],
   "source": [
    "df[0,2]"
   ]
  },
  {
   "cell_type": "code",
   "execution_count": 9,
   "metadata": {},
   "outputs": [],
   "source": [
    "with open(outfile, mode=\"ab\") as f:\n",
    "   df.write_ndjson(f)"
   ]
  }
 ],
 "metadata": {
  "kernelspec": {
   "display_name": ".venv",
   "language": "python",
   "name": "python3"
  },
  "language_info": {
   "codemirror_mode": {
    "name": "ipython",
    "version": 3
   },
   "file_extension": ".py",
   "mimetype": "text/x-python",
   "name": "python",
   "nbconvert_exporter": "python",
   "pygments_lexer": "ipython3",
   "version": "3.10.12"
  },
  "orig_nbformat": 4
 },
 "nbformat": 4,
 "nbformat_minor": 2
}
