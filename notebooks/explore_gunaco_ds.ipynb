{
 "cells": [
  {
   "cell_type": "code",
   "execution_count": 2,
   "metadata": {},
   "outputs": [],
   "source": [
    "import polars as pl\n",
    "import datasets as ds\n",
    "\n",
    "\n",
    "out_file = '../datasets/compiled.jsonl'"
   ]
  },
  {
   "cell_type": "code",
   "execution_count": 3,
   "metadata": {},
   "outputs": [
    {
     "name": "stderr",
     "output_type": "stream",
     "text": [
      "Downloading readme: 100%|██████████| 247/247 [00:00<00:00, 972kB/s]\n"
     ]
    },
    {
     "name": "stdout",
     "output_type": "stream",
     "text": [
      "Downloading and preparing dataset json/openaccess-ai-collective--oasst1-guanaco-extended to /home/lawrence/.cache/huggingface/datasets/openaccess-ai-collective___json/openaccess-ai-collective--oasst1-guanaco-extended-a0578b65fbe8ac98/0.0.0/e347ab1c932092252e717ff3f949105a4dd28b27e842dd53157d2f72e276c2e4...\n"
     ]
    },
    {
     "name": "stderr",
     "output_type": "stream",
     "text": [
      "Downloading data: 100%|██████████| 24.4M/24.4M [00:04<00:00, 6.00MB/s]\n",
      "Downloading data files: 100%|██████████| 1/1 [00:05<00:00,  5.26s/it]\n",
      "Extracting data files: 100%|██████████| 1/1 [00:00<00:00, 1136.98it/s]\n",
      "                                                                  "
     ]
    },
    {
     "name": "stdout",
     "output_type": "stream",
     "text": [
      "Dataset json downloaded and prepared to /home/lawrence/.cache/huggingface/datasets/openaccess-ai-collective___json/openaccess-ai-collective--oasst1-guanaco-extended-a0578b65fbe8ac98/0.0.0/e347ab1c932092252e717ff3f949105a4dd28b27e842dd53157d2f72e276c2e4. Subsequent calls will reuse this data.\n"
     ]
    },
    {
     "name": "stderr",
     "output_type": "stream",
     "text": [
      "\r"
     ]
    }
   ],
   "source": [
    "dataset = ds.load_dataset(\"openaccess-ai-collective/oasst1-guanaco-extended\", split=\"train[:-1]\")\n",
    "\n",
    "df = pl.from_arrow(dataset.data.table)"
   ]
  },
  {
   "cell_type": "code",
   "execution_count": 7,
   "metadata": {},
   "outputs": [
    {
     "data": {
      "text/html": [
       "<div><style>\n",
       ".dataframe > thead > tr > th,\n",
       ".dataframe > tbody > tr > td {\n",
       "  text-align: right;\n",
       "}\n",
       "</style>\n",
       "<small>shape: (33, 1)</small><table border=\"1\" class=\"dataframe\"><thead><tr><th>conversations</th></tr><tr><td>struct[4]</td></tr></thead><tbody><tr><td>{&quot;6ab24d72-0181-4594-a9cd-deaf170242fb&quot;,null,&quot;prompter&quot;,&quot;Can you write a short introduction about the relevance of the term &quot;monopsony&quot; in economics? Please use examples related to potential monopsonies in the labour market and cite relevant research.&quot;}</td></tr><tr><td>{&quot;c8e83833-ecbc-44fe-b6db-735228c25a1c&quot;,&quot;6ab24d72-0181-4594-a9cd-deaf170242fb&quot;,&quot;assistant&quot;,&quot;&quot;Monopsony&quot; refers to a market structure where there is only one buyer for a particular good or service. In economics, this term is particularly relevant in the labor market, where a monopsony employer has significant power over the wages and working conditions of their employees. The presence of a monopsony can result in lower wages and reduced employment opportunities for workers, as the employer has little incentive to increase wages or provide better working conditions.\n",
       "\n",
       "Recent research has identified potential monopsonies in industries such as retail and fast food, where a few large companies control a significant portion of the market (Bivens &amp; Mishel, 2013). In these industries, workers often face low wages, limited benefits, and reduced bargaining power, leading to a situation where they are dependent on the employer for their livelihood. This dependence can result in further suppression of wages and a decline in working conditions.\n",
       "\n",
       "Overall, the concept of monopsony is essential to understanding the dynamics of labor markets and the impact of market power on workers. Further research is needed to understand the extent and impact of monopsonies on the economy and to develop policies to address this issue.\n",
       "\n",
       "References:\n",
       "Bivens, J., &amp; Mishel, L. (2013). The Pay of Corporate Executives and Financial Professionals as Evidence of Rents in Top 1 Percent Incomes. Journal of Economic Perspectives, 27(3), 57-78.&quot;}</td></tr><tr><td>{&quot;6708c47f-05c9-4346-b3d2-40b2bd24fde4&quot;,&quot;c8e83833-ecbc-44fe-b6db-735228c25a1c&quot;,&quot;prompter&quot;,&quot;Now explain it to a dog&quot;}</td></tr><tr><td>{&quot;5249c721-e6d7-45f3-9680-f211d7be308e&quot;,null,&quot;prompter&quot;,&quot;¿CUales son las etapas del desarrollo y en qué consisten según Piaget?&quot;}</td></tr><tr><td>{&quot;851a0267-90b0-46f3-97e8-ba143a1c0cd5&quot;,&quot;5249c721-e6d7-45f3-9680-f211d7be308e&quot;,&quot;assistant&quot;,&quot;Jean Piaget fue un psicólogo suizo que propuso una teoría sobre el desarrollo cognitivo humano que consta de cuatro etapas:\n",
       "\n",
       "Etapa sensoriomotora (0-2 años): Durante esta etapa, el niño aprende a través de sus sentidos y movimientos. Descubre que sus acciones pueden tener un impacto en el entorno y comienza a formarse una idea básica de objetividad y continuidad.\n",
       "\n",
       "Etapa preoperatoria (2-7 años): En esta etapa, el niño comienza a desarrollar un pensamiento simbólico y a comprender que las cosas pueden representar a otras cosas. También comienzan a desarrollar un pensamiento lógico y a comprender conceptos como la causa y el efecto.\n",
       "\n",
       "Etapa de operaciones concretas (7-12 años): Durante esta etapa, el niño desarrolla un pensamiento lógico y comprende las relaciones causales. Empiezan a comprender que las cosas pueden tener múltiples perspectivas y que los conceptos pueden ser más complejos de lo que parecen a simple vista.\n",
       "\n",
       "Etapa de operaciones formales (12 años en adelante): En esta etapa, el individuo desarrolla un pensamiento abstracto y puede comprender conceptos complejos y abstractos. Son capaces de razonar hipotéticamente y tienen la capacidad de reflexionar sobre su propio pensamiento.\n",
       "\n",
       "Estas etapas no son lineales y algunos individuos pueden avanzar en una etapa más rápidamente que en otras. La teoría de Piaget sobre el desarrollo cognitivo ha sido ampliamente utilizada y es una base importante para la investigación y el entendimiento del desarrollo humano.&quot;}</td></tr><tr><td>{&quot;ef4a54ad-693f-4253-9478-5174b1dc4553&quot;,&quot;851a0267-90b0-46f3-97e8-ba143a1c0cd5&quot;,&quot;prompter&quot;,&quot;¿Hay otras teorías sobre las etapas del desarrollo que reafirmen o contradigan a la teoría de Piaget?&quot;}</td></tr><tr><td>{&quot;91a934ba-cfb8-4ca9-84d0-232b43ad13ab&quot;,null,&quot;prompter&quot;,&quot;Can you explain contrastive learning in machine learning in simple terms for someone new to the field of ML?&quot;}</td></tr><tr><td>{&quot;e8ca4e06-a584-4001-8594-5f633e06fa91&quot;,&quot;91a934ba-cfb8-4ca9-84d0-232b43ad13ab&quot;,&quot;assistant&quot;,&quot;Sure! Let&#x27;s say you want to build a model which can distinguish between images of cats and dogs. You gather your dataset, consisting of many cat and dog pictures. Then you put them through a neural net of your choice, which produces some representation for each image, a sequence of numbers like [0.123, 0.045, 0.334, ...]. The problem is, if your model is unfamiliar with cat and dog images, these representations will be quite random. At one time a cat and a dog picture could have very similar representations (their numbers would be close to each other), while at others two cat images may be represented far apart. In simple terms, the model wouldn&#x27;t be able to tell cats and dogs apart. This is where contrastive learning comes in.\n",
       "\n",
       "The point of contrastive learning is to take pairs of samples (in this case images of cats and dogs), then train the model to &quot;pull&quot; representations of similar pairs (cat-cat or dog-dog) closer to each other and &quot;push&quot; representations of different pairs (cat-dog) apart. After doing this for a sufficient number of steps, your model will be able to produce unique, reliable representations for cats and dogs, in essence tell them apart.\n",
       "\n",
       "This method is not limited to images, you can typically use it with any dataset that has similar and dissimilar data points.&quot;}</td></tr><tr><td>{&quot;345ef82e-70f1-4824-9d73-db2ce00573a7&quot;,&quot;e8ca4e06-a584-4001-8594-5f633e06fa91&quot;,&quot;prompter&quot;,&quot;I didn&#x27;t understand how pulling and pushing works. What are we pulling or pushing? And how does it work in terms of code or maths?&quot;}</td></tr><tr><td>{&quot;4c7578c0-f45b-4dd0-a1a1-24a189658a41&quot;,&quot;345ef82e-70f1-4824-9d73-db2ce00573a7&quot;,&quot;assistant&quot;,&quot;It has to do with a process called differentiation, which means finding a derivative: a function that tells us whether another function is going up or down at a given point. For example, the derivative of `f(x) = x` is `f&#x27;(x) = 1`, because it&#x27;s always going up at a 1:1 ratio. This can be done for a variety of functions; notably, if you know the derivatives of `f(x)` and `g(x)`, you can also get the derivative of `f(g(x))` using a formula called the chain rule. Neural networks happen to be made of differentiable functions, so we can take the derivative of parts or all of it.\n",
       "\n",
       "To use this for &quot;pushing&quot; and &quot;pulling&quot;, we&#x27;ll put two images through the neural network. Let&#x27;s say the images are of a cat and a dog, so we want to increase the distance between the two. We pick one neuron weight from the network and make it a variable `x`, then construct a function that calculates the output of the network based on it and all the other parameters; let&#x27;s call it `N(x)`. The distance between the cat and dog outputs would be `f(x) = N(cat) - N(dog)`. (Of course, the real output would have more than 1 dimension, but we&#x27;re simplifying.) We now want to nudge the weight such that it moves the two outputs slightly further apart. For that, we can simply take the derivative! If `f&#x27;(x)` is positive, that means that increasing the weight will move them further apart, so we should do that. If it&#x27;s negative, then it&#x27;ll move them closer, so we&#x27;ll want to slightly decrease the weight instead. Apply this to all the neurons enough times and your network will soon converge to a pretty good cat-dog separator!&quot;}</td></tr><tr><td>{&quot;7cce4047-8f87-42c4-9d75-a590c02be5b1&quot;,null,&quot;prompter&quot;,&quot;I want to start doing astrophotography as a hobby, any suggestions what could i do?&quot;}</td></tr><tr><td>{&quot;19cb94ab-d6ab-4dbd-b408-70ffbd9b595c&quot;,&quot;7cce4047-8f87-42c4-9d75-a590c02be5b1&quot;,&quot;assistant&quot;,&quot;Getting started in astrophotography can seem daunting, but with some patience and practice, you can become a master of the craft. To begin, you&#x27;ll need a good camera and lens, a tripod, and a dark sky location free of light pollution. You will also need to learn about the basics of astrophotography, such as what camera settings to use, how to capture star trails, and the best techniques for tracking celestial objects. You can also purchase or rent different types of telescopes, depending on what types of objects you want to capture. Additionally, it&#x27;s important to keep up with the latest astrophotography news and trends. Once you have the necessary equipment and knowledge, you can start shooting and experimenting with different techniques to get the best results.&quot;}</td></tr><tr><td>&hellip;</td></tr><tr><td>{&quot;8607c450-ccfb-4c13-a96d-2e33db363f8e&quot;,&quot;710feb81-be4c-4fde-9a3b-7fa5df007d53&quot;,&quot;assistant&quot;,&quot;Sure! Here&#x27;s an example Python script that uses the Flask web framework to create a simple API endpoint that serves a string:\n",
       "\n",
       "``` \n",
       "from flask import Flask\n",
       "\n",
       "app = Flask(__name__)\n",
       "\n",
       "@app.route(&#x27;/&#x27;)\n",
       "def hello_world():\n",
       "    return &#x27;Hello, world!&#x27;\n",
       "\n",
       "if __name__ == &#x27;__main__&#x27;:\n",
       "    app.run()\n",
       "\n",
       "``` \n",
       "\n",
       "In this script, we first import the Flask class from the flask module. Then we create a new instance of the Flask class, using the __name__ variable to specify the name of the application.\n",
       "\\\n",
       "Next, we define a new route using the @app.route() decorator. This decorator tells Flask to map requests to the root URL (&quot;/&quot;) to the hello_world() function.\n",
       "\\\n",
       "Finally, we use the if __name__ == &#x27;__main__&#x27;: block to start the Flask application when the script is executed. By default, the application will run on port 5000.\n",
       "\\\n",
       "You can run this script and test the API by opening a web browser and navigating to http://localhost:5000/. You should see a simple &quot;Hello, world!&quot; message displayed in your browser.&quot;}</td></tr><tr><td>{&quot;e550a849-2be8-4fe8-9f3c-93b82a1cb0ec&quot;,&quot;8607c450-ccfb-4c13-a96d-2e33db363f8e&quot;,&quot;prompter&quot;,&quot;What changes would you need to make to the code above to serve a JSON object instead of a string?&quot;}</td></tr><tr><td>{&quot;0ba4bd14-dc5c-4486-952c-e47c5b1beb5a&quot;,&quot;e550a849-2be8-4fe8-9f3c-93b82a1cb0ec&quot;,&quot;assistant&quot;,&quot;To serve a JSON object instead of a string, you can modify the &quot;hello_world()&quot; function to return a JSON response using the Flask &quot;jsonify&quot; function. Here&#x27;s an example of how to modify the previous code to serve a JSON object:\n",
       "\n",
       "```\n",
       "from flask import Flask, jsonify\n",
       "\n",
       "app = Flask(name)\n",
       "\n",
       "@app.route(&#x27;/&#x27;)\n",
       "def hello_world():\n",
       "data = {\n",
       "&#x27;message&#x27;: &#x27;Hello, world!&#x27;\n",
       "}\n",
       "return jsonify(data)\n",
       "\n",
       "if name == &#x27;main&#x27;:\n",
       "app.run()\n",
       "```\n",
       "\n",
       "In this updated version of the code, we import the &quot;jsonify&quot; function from Flask and use it to create a JSON response. We define a dictionary called &quot;data&quot; that contains a single key-value pair, where the key is &quot;message&quot; and the value is &quot;Hello, world!&quot;.\n",
       "\n",
       "The &quot;jsonify&quot; function takes a dictionary as its argument and returns a JSON-formatted response with the appropriate content-type headers. When we visit the root URL of our Flask application, we will see a JSON object with the &quot;message&quot; key and its associated value.\n",
       "\n",
       "You can test this modified script in the same way as the previous example, by opening a web browser and navigating to http://localhost:5000/. This time, you should see a JSON object with the &quot;message&quot; key and its associated value displayed in your browser.&quot;}</td></tr><tr><td>{&quot;c866c106-86e0-4d63-97fe-03b896b0473c&quot;,null,&quot;prompter&quot;,&quot;How can I learn to optimize my webpage for search engines?&quot;}</td></tr><tr><td>{&quot;a2858362-efa0-4100-a11b-31c2b4e22a47&quot;,&quot;c866c106-86e0-4d63-97fe-03b896b0473c&quot;,&quot;assistant&quot;,&quot;Learning to optimize your webpage for search engines involves several steps, including:\n",
       "\n",
       "1. Understanding the basics of how search engines work: Learn how search engines crawl and index web pages, and how they rank pages based on factors like relevance, authority, and user experience.\n",
       "2. Conducting keyword research: Identify the keywords and phrases that your target audience is using to search for your products or services, and use these keywords to optimize your web pages.\n",
       "3. Creating high-quality content: Create content that is informative, engaging, and relevant to your target audience. This can include blog posts, articles, videos, and other types of content.\n",
       "4. Optimizing your web pages: Optimize your page titles, meta descriptions, header tags, and other on-page elements to make sure they are aligned with your target keywords and provide a clear picture of what your page is about.\n",
       "5. Building backlinks: Build high-quality backlinks from other reputable websites to your own site. This can help increase your authority and improve your search engine rankings.\n",
       "6. Monitoring your results: Use analytics tools to track your website&#x27;s performance in search engine rankings, and adjust your strategy as needed based on your results.\n",
       "\n",
       "There are many resources available online to help you learn more about search engine optimization (SEO), including blogs, courses, and tutorials. Some popular SEO resources include Moz, SEMrush, and Google&#x27;s Search Console documentation.\n",
       "\n",
       "It&#x27;s important to note that SEO is an ongoing process, and it can take time and effort to see results. However, by following best practices and staying up-to-date with the latest trends and techniques, you can help improve your website&#x27;s visibility and attract more traffic from search engines.&quot;}</td></tr><tr><td>{&quot;a0a38b77-79c3-4037-9a96-6bedfce3515c&quot;,&quot;a2858362-efa0-4100-a11b-31c2b4e22a47&quot;,&quot;prompter&quot;,&quot;My webpage is about flower arrangements. Can you give some examples for each of the above?&quot;}</td></tr><tr><td>{&quot;e480f611-0d31-433a-93d2-0e2bc675aa30&quot;,null,&quot;prompter&quot;,&quot;Напиши информацию о игре Hytale&quot;}</td></tr><tr><td>{&quot;d5766ce8-5ea8-4713-aaaf-f8121cc4fb14&quot;,&quot;e480f611-0d31-433a-93d2-0e2bc675aa30&quot;,&quot;assistant&quot;,&quot;Hytale - это предстоящая игра-песочница, придуманная Hypixel Studios. Объединяя в себе диапазон игры-песочницы с глубиной ролевой игры, Hytale погружает игроков в живой космос, полный эскапад и творчества.\n",
       "\n",
       "В Hytale геймеры могут путешествовать по просторному, процедурно созданному миру и принимать участие в разнообразных действиях. От возведения баз и создания собственных персонажей до создания карт приключений и сражений с монстрами или другими игроками - возможности Hytale безграничны. Игроки также могут создавать свои собственные серверы, которые можно использовать совместно с другими геймерами, что позволяет создавать необычные сообщества.\n",
       "\n",
       "В игре также имеется обширная система моддинга, позволяющая игрокам создавать и делиться своими собственными предметами. С помощью системы моддинга геймеры могут создавать пользовательское оружие, броню и другие предметы, а также пользовательские карты и режимы игры. Эта функция позволяет игрокам создавать свои собственные необычные впечатления и делиться ими с друзьями и другими игроками.\n",
       "\n",
       "Игра также отличается роскошным саундтреком и впечатляющими визуальными эффектами, а разнообразие окружения варьируется от роскошных лесов до засушливых пустынь. В Hytale также имеется обширная система настройки персонажей, позволяющая геймерам создавать собственных героев, настраивать их наряды и выбирать собственный стиль игры.\n",
       "\n",
       "В целом, Hytale - это энергичная предстоящая игра, которая обещает предложить необычный и захватывающий опыт. Благодаря обширному миру, разнообразным действиям, системе моддинга, захватывающему саундтреку и визуальному оформлению, Hytale обещает стать увлекательной игрой, которая завладеет сердцами и воображением геймеров по всей вселенной.&quot;}</td></tr><tr><td>{&quot;5f7cf6e9-6424-4571-94d7-8131dad29611&quot;,&quot;d5766ce8-5ea8-4713-aaaf-f8121cc4fb14&quot;,&quot;prompter&quot;,&quot;Ты бы мог в неё играть?&quot;}</td></tr><tr><td>{&quot;c9a840de-0675-4cee-a64e-e2c49303eabd&quot;,null,&quot;prompter&quot;,&quot;Estoy pensando en crear un videojuego pero no estoy seguro de que motor de juego quiero utilizar. Al buscar por internet me parece que hay muchos opciones buenas.\n",
       "Quiero crear un juego online en tiempo real. Será un shooter en tercera persona con la cámara al hombro.\n",
       "El nivel de gráficos que busco no es demasiado alto pero tampoco bajo. Los gráficos serán algo estilizados.\n",
       "Tengo estudios de informática así que aprender cualquier lenguaje de programación no es un problema demasiado grande.\n",
       "¿Me puedes dar algunas recomendaciones de motores para mi videojuegos?\n",
       "¿Podrías compararlos entre ellos y darme unos pros y contras?&quot;}</td></tr><tr><td>{&quot;fc873b67-d2a6-44dd-8427-6d2e1f9036a6&quot;,&quot;c9a840de-0675-4cee-a64e-e2c49303eabd&quot;,&quot;assistant&quot;,&quot;¡Claro! Hay varios motores de juego que podrían ser adecuados para tu proyecto, cada uno con sus propias ventajas y desventajas. A continuación, te daré una comparación de los motores de juego más populares y te explicaré sus pros y contras.\n",
       "\n",
       "1. Unreal Engine:\n",
       "El Unreal Engine es uno de los motores de juego más populares en el mercado, especialmente en lo que respecta a los juegos de disparos en tercera persona. Es muy conocido por su capacidad para crear gráficos de alta calidad y su comunidad de usuarios muy activa. Es fácil de usar y viene con muchas características útiles como herramientas de nivel de editor y animación. Además, también es gratuito.\n",
       "Pros: Fácil de usar, gráficos de alta calidad, buena documentación, gran comunidad de usuarios.\n",
       "\n",
       "Contras: Puede ser complicado para principiantes, requiere una PC de gama alta para funcionar bien, tiene una curva de aprendizaje pronunciada.\n",
       "\n",
       "2. Unity:\n",
       "Unity es otro popular motor de juego para el desarrollo de juegos en tercera persona. Es conocido por su facilidad de uso y su capacidad para crear juegos para múltiples plataformas, incluyendo PC, móvil y consolas. Unity también es gratuito y tiene una gran comunidad de usuarios.\n",
       "Pros: Fácil de usar, funciona en múltiples plataformas, buena documentación, gran comunidad de usuarios.\n",
       "\n",
       "Contras: Los gráficos pueden no ser tan impresionantes como los de Unreal Engine, puede ser difícil para los desarrolladores novatos, requiere una suscripción para ciertas características avanzadas.\n",
       "\n",
       "3. CryEngine:\n",
       "CryEngine es un motor de juego popular para el desarrollo de juegos en tercera persona que es conocido por sus gráficos impresionantes y su capacidad para crear entornos enormes y detallados. Es utilizado por muchos estudios de juegos AAA y es conocido por su alta calidad visual.\n",
       "Pros: Gráficos impresionantes, gran capacidad para entornos detallados, buena documentación.\n",
       "\n",
       "Contras: Puede ser difícil para los desarrolladores novatos, requiere una PC de gama alta para funcionar bien, tiene una curva de aprendizaje pronunciada.\n",
       "\n",
       "4. Godot:\n",
       "Godot es un motor de juego gratuito y de código abierto que es fácil de usar y tiene una gran comunidad de usuarios. Es conocido por su capacidad para crear juegos 2D y 3D, y es especialmente adecuado para proyectos más pequeños. Godot tiene una curva de aprendizaje más suave que otros motores y es muy personalizable.\n",
       "Pros: Fácil de usar, gratuito y de código abierto, gran capacidad para personalizar, buena documentación.\n",
       "\n",
       "Contras: No es tan potente como otros motores de juego, puede ser más adecuado para proyectos más pequeños, los gráficos pueden no ser tan impresionantes.\n",
       "\n",
       "En resumen, los cuatro motores de juego mencionados son excelentes opciones para el desarrollo de un shooter en tercera persona. Cada uno tiene sus propias ventajas y desventajas, por lo que la elección dependerá de tus necesidades específicas y habilidades. Si estás buscando gráficos impresionantes, Unreal Engine y CryEngine son excelentes opciones. Si prefieres una opción más fácil de usar, Unity y Godot podrían ser una mejor opción.&quot;}</td></tr><tr><td>{&quot;7db3d2c6-4859-42cc-b869-9483155a4238&quot;,&quot;fc873b67-d2a6-44dd-8427-6d2e1f9036a6&quot;,&quot;prompter&quot;,&quot;Podrías generar una tabla comparativa con todos los motores de juego que mencionaste?. Dicha tabla también debe contener algunos títulos de juegos hechos usando dicho motor.&quot;}</td></tr></tbody></table></div>"
      ],
      "text/plain": [
       "shape: (33, 1)\n",
       "┌───────────────────────────────────┐\n",
       "│ conversations                     │\n",
       "│ ---                               │\n",
       "│ struct[4]                         │\n",
       "╞═══════════════════════════════════╡\n",
       "│ {\"6ab24d72-0181-4594-a9cd-deaf17… │\n",
       "│ {\"c8e83833-ecbc-44fe-b6db-735228… │\n",
       "│ {\"6708c47f-05c9-4346-b3d2-40b2bd… │\n",
       "│ {\"5249c721-e6d7-45f3-9680-f211d7… │\n",
       "│ …                                 │\n",
       "│ {\"5f7cf6e9-6424-4571-94d7-8131da… │\n",
       "│ {\"c9a840de-0675-4cee-a64e-e2c493… │\n",
       "│ {\"fc873b67-d2a6-44dd-8427-6d2e1f… │\n",
       "│ {\"7db3d2c6-4859-42cc-b869-948315… │\n",
       "└───────────────────────────────────┘"
      ]
     },
     "execution_count": 7,
     "metadata": {},
     "output_type": "execute_result"
    }
   ],
   "source": [
    "df.head(10).explode('conversations')"
   ]
  }
 ],
 "metadata": {
  "kernelspec": {
   "display_name": ".venv",
   "language": "python",
   "name": "python3"
  },
  "language_info": {
   "codemirror_mode": {
    "name": "ipython",
    "version": 3
   },
   "file_extension": ".py",
   "mimetype": "text/x-python",
   "name": "python",
   "nbconvert_exporter": "python",
   "pygments_lexer": "ipython3",
   "version": "3.10.11"
  },
  "orig_nbformat": 4
 },
 "nbformat": 4,
 "nbformat_minor": 2
}
