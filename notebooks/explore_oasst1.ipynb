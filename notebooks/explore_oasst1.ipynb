{
 "cells": [
  {
   "cell_type": "code",
   "execution_count": 170,
   "metadata": {},
   "outputs": [],
   "source": [
    "import polars as pl\n",
    "import datasets as ds\n",
    "import json\n",
    "\n",
    "\n",
    "out_file = '../datasets/compiled.jsonl'"
   ]
  },
  {
   "cell_type": "code",
   "execution_count": 166,
   "metadata": {},
   "outputs": [
    {
     "name": "stderr",
     "output_type": "stream",
     "text": [
      "Found cached dataset parquet (/home/lawrence/.cache/huggingface/datasets/OpenAssistant___parquet/OpenAssistant--oasst1-2960c57d7e52ab15/0.0.0/2a3b91fbd88a2c90d1dbbb32b460cf621d31bd5b05b934492fdef7d8d6f236ec)\n"
     ]
    }
   ],
   "source": [
    "dataset = ds.load_dataset(\"OpenAssistant/oasst1\", split=\"train[:-1]\")\n",
    "\n",
    "df = pl.from_arrow(dataset.data.table).filter(\n",
    "    pl.col('lang') == 'en'\n",
    ")"
   ]
  },
  {
   "cell_type": "code",
   "execution_count": 167,
   "metadata": {},
   "outputs": [],
   "source": [
    "p_df = df.filter(\n",
    "    pl.col('parent_id') == None\n",
    ").select(['message_id', 'parent_id', 'text', 'role'])\n",
    "\n",
    "r_df = df.filter(\n",
    "    (pl.col('parent_id') != None) \n",
    "    & (pl.col('role') == 'assistant')\n",
    "    & (pl.col('rank') != None)\n",
    "    & (pl.col('rank') < 2)\n",
    ").select(['message_id', 'parent_id', 'text', 'role', 'rank'])\n",
    "\n",
    "ap_df = df.filter(\n",
    "    (pl.col('role') == 'prompter')\n",
    "    # & (pl.col('parent_id') != None)\n",
    ").select(['message_id', 'parent_id', 'text', 'role'])\n"
   ]
  },
  {
   "cell_type": "code",
   "execution_count": 168,
   "metadata": {},
   "outputs": [],
   "source": [
    "m_chains = []\n",
    "\n",
    "def build_m_chains(p_row, m_chain=''):\n",
    "    # if len(m_chain) < 1:\n",
    "        # m_chain += (f\"<|INPUT|>{p_row['text']}<|END_INPUT|>\")\n",
    "    if p_row['role'] == 'prompter':\n",
    "        resp = r_df.filter(pl.col('parent_id') == p_row['message_id']).to_dicts()\n",
    "        # print(f'resp len: {len(resp)} \\nprompt resp:\\n {resp}\\n\\n*******')\n",
    "        if resp:\n",
    "            m_chain += (f\"<|INPUT|>{p_row['text']}<|END_INPUT|>\")\n",
    "            for resp in resp:\n",
    "                _m_chain = (f\"{m_chain}<|RESPONSE|>{resp['text']}<|END_RESPONSE|>\")\n",
    "                build_m_chains(resp, _m_chain)\n",
    "    elif p_row['role'] == 'assistant':\n",
    "        resp = ap_df.filter(pl.col('parent_id') == p_row['message_id']).to_dicts()\n",
    "        # print(f'prompt: {resp}\\n\\n*******')\n",
    "        if resp:\n",
    "            for resp in resp:\n",
    "                # _m_chain = (f\"{m_chain}<|INPUT|>{p_row['text']}<|END_INPUT|>\")\n",
    "                build_m_chains(resp, m_chain)\n",
    "    if not resp:\n",
    "        m_chains.append(m_chain)\n",
    "        # print(m_chain)\n",
    "        # return m_chain\n",
    "    \n",
    "# m_chains = []\n",
    "\n",
    "for row in p_df.iter_rows(named=True):\n",
    "    build_m_chains(row)\n",
    "    # print(m)\n",
    "    # m_chains.append(m)\n",
    "    # children = rg_df.filter(pl.col('parent_id') == row['message_id'])\n",
    "    # print(row)\n",
    "    # ld = {\n",
    "    #     'prompt': row['text'],\n",
    "    #     'responses': row['message_id'],\n",
    "    # }\n",
    "\n"
   ]
  },
  {
   "cell_type": "code",
   "execution_count": 171,
   "metadata": {},
   "outputs": [],
   "source": [
    "odf = pl.DataFrame({\n",
    "    \"message\": m_chains\n",
    "}).with_columns(\n",
    "    pl.lit('oasst1').alias('source'),\n",
    "    pl.lit('').alias('context'),\n",
    "    pl.lit('').alias('system'),\n",
    "    pl.lit('').alias('input'),\n",
    "    pl.lit('').alias('response'),\n",
    "    tags = ['instruct', 'reviewed', 'dialogue']\n",
    ").select(['input', 'response', 'source', 'context', 'system', 'message', 'tags'])\n",
    "\n",
    "with open(out_file, mode=\"ab\") as f:\n",
    "   odf.write_ndjson(f)"
   ]
  }
 ],
 "metadata": {
  "kernelspec": {
   "display_name": ".venv",
   "language": "python",
   "name": "python3"
  },
  "language_info": {
   "codemirror_mode": {
    "name": "ipython",
    "version": 3
   },
   "file_extension": ".py",
   "mimetype": "text/x-python",
   "name": "python",
   "nbconvert_exporter": "python",
   "pygments_lexer": "ipython3",
   "version": "3.10.12"
  },
  "orig_nbformat": 4
 },
 "nbformat": 4,
 "nbformat_minor": 2
}
