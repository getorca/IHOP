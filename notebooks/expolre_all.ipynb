{
 "cells": [
  {
   "cell_type": "code",
   "execution_count": 122,
   "metadata": {},
   "outputs": [],
   "source": [
    "import polars as pl\n",
    "import datasets as ds\n",
    "\n",
    "\n",
    "out_file = '../datasets/compiled.jsonl'"
   ]
  },
  {
   "cell_type": "code",
   "execution_count": 123,
   "metadata": {},
   "outputs": [
    {
     "name": "stderr",
     "output_type": "stream",
     "text": [
      "Found cached dataset gsm8k (/home/lawrence/.cache/huggingface/datasets/gsm8k/main/1.1.0/37bfb08b1d4fcbb01f06b03d9e1ef5f1fcbd4d3af3d08842c50d7305091285ba)\n"
     ]
    }
   ],
   "source": [
    "\n",
    "# builds the gsm8k dataset, https://huggingface.co/datasets/gsm8k\n",
    "\n",
    "dataset = ds.load_dataset(\"gsm8k\", \"main\", split=\"train[:-1]\")\n",
    "\n",
    "df = pl.from_arrow(dataset.data.table)\n",
    "\n",
    "odf = df.with_columns(\n",
    "    pl.lit('gsm8k').alias('source'),\n",
    "    pl.lit('').alias('context'),\n",
    "    pl.lit('').alias('system'),\n",
    "    pl.lit('').alias('message'),\n",
    "    tags = ['math'],\n",
    ").rename(\n",
    "    {'question': 'input', 'answer': 'response'}\n",
    ").select(['input', 'response', 'source', 'context', 'system', 'message', 'tags'])\n",
    "\n",
    "#odf\n",
    "\n",
    "with open(out_file, mode=\"ab\") as f:\n",
    "    odf.write_ndjson(f)"
   ]
  },
  {
   "cell_type": "code",
   "execution_count": 124,
   "metadata": {},
   "outputs": [
    {
     "name": "stderr",
     "output_type": "stream",
     "text": [
      "Found cached dataset parquet (/home/lawrence/.cache/huggingface/datasets/Dahoas___parquet/Dahoas--synthetic-instruct-gptj-pairwise-0b2fd7bd9ea121cb/0.0.0/2a3b91fbd88a2c90d1dbbb32b460cf621d31bd5b05b934492fdef7d8d6f236ec)\n"
     ]
    }
   ],
   "source": [
    "# builds the /synthetic-instruct-gptj-pairwise dataset, https://huggingface.co/datasets/Dahoas/synthetic-instruct-gptj-pairwise\n",
    "\n",
    "\n",
    "dataset = ds.load_dataset(\"Dahoas/synthetic-instruct-gptj-pairwise\", split=\"train[:-1]\")\n",
    "\n",
    "df = pl.from_arrow(dataset.data.table)\n",
    "\n",
    "odf = df.with_columns(\n",
    "    pl.lit('synthetic-instruct-gptj-pairwise').alias('source'),\n",
    "    pl.lit('').alias('context'),\n",
    "    pl.lit('').alias('system'),\n",
    "    pl.lit('').alias('message'),\n",
    "    tags = ['instruct'],\n",
    ").rename(\n",
    "    {'prompt': 'input', 'chosen': 'response'}\n",
    ").select(['input', 'response', 'source', 'context', 'system', 'message', 'tags'])\n",
    "\n",
    "# odf\n",
    "\n",
    "with open(out_file, mode=\"ab\") as f:\n",
    "   odf.write_ndjson(f)"
   ]
  },
  {
   "cell_type": "code",
   "execution_count": 125,
   "metadata": {},
   "outputs": [
    {
     "name": "stderr",
     "output_type": "stream",
     "text": [
      "Found cached dataset truthful_qa (/home/lawrence/.cache/huggingface/datasets/truthful_qa/generation/1.1.0/70210b72382652635215516e59663843b88eda16bd2acef909fb46700beb039a)\n"
     ]
    }
   ],
   "source": [
    "# build truthful_qa, https:///huggingface.co/datasets/truthful_qa\n",
    "\n",
    "dataset = ds.load_dataset(\"truthful_qa\", \"generation\", split=\"validation[:-1]\")\n",
    "\n",
    "df = pl.from_arrow(dataset.data.table)\n",
    "\n",
    "odf = df.with_columns(\n",
    "    pl.lit('truthful_qa').alias('source'),\n",
    "    pl.lit('').alias('context'),\n",
    "    pl.lit('').alias('system'),\n",
    "    pl.lit('').alias('message'),\n",
    "    tags = ['human_made', \"question_answering\"],\n",
    ").rename(\n",
    "    {'question': 'input', 'best_answer': 'response'}\n",
    ").select(['input', 'response', 'source', 'context', 'system', 'message', 'tags'])\n",
    "\n",
    "# odf\n",
    "\n",
    "with open(out_file, mode=\"ab\") as f:\n",
    "   odf.write_ndjson(f)"
   ]
  },
  {
   "cell_type": "code",
   "execution_count": 92,
   "metadata": {},
   "outputs": [],
   "source": [
    "df = pl.read_json(\n",
    "    '../datasets/baize/alpaca_chat_data.json'\n",
    ")"
   ]
  },
  {
   "cell_type": "code",
   "execution_count": 102,
   "metadata": {},
   "outputs": [
    {
     "data": {
      "text/html": [
       "<div><style>\n",
       ".dataframe > thead > tr > th,\n",
       ".dataframe > tbody > tr > td {\n",
       "  text-align: right;\n",
       "}\n",
       "</style>\n",
       "<small>shape: (5, 1)</small><table border=\"1\" class=\"dataframe\"><thead><tr><th>response</th></tr><tr><td>str</td></tr></thead><tbody><tr><td>&quot;|Human|] Give …</td></tr><tr><td>&quot;|Human|] What …</td></tr><tr><td>&quot;|Human|] Descr…</td></tr><tr><td>&quot;|Human|] How c…</td></tr><tr><td>&quot;|Human|] Prete…</td></tr></tbody></table></div>"
      ],
      "text/plain": [
       "shape: (5, 1)\n",
       "┌───────────────────────────────────┐\n",
       "│ response                          │\n",
       "│ ---                               │\n",
       "│ str                               │\n",
       "╞═══════════════════════════════════╡\n",
       "│ |Human|] Give three tips for sta… │\n",
       "│ |Human|] What are the three prim… │\n",
       "│ |Human|] Describe the structure … │\n",
       "│ |Human|] How can we reduce air p… │\n",
       "│ |Human|] Pretend you are a proje… │\n",
       "└───────────────────────────────────┘"
      ]
     },
     "execution_count": 102,
     "metadata": {},
     "output_type": "execute_result"
    }
   ],
   "source": [
    "df.head(5).select(\n",
    "    pl.col('input').str.slice(50, 100).alias('response'),\n",
    ")"
   ]
  },
  {
   "cell_type": "code",
   "execution_count": 110,
   "metadata": {},
   "outputs": [
    {
     "ename": "TypeError",
     "evalue": "'Expr' object is not subscriptable",
     "output_type": "error",
     "traceback": [
      "\u001b[0;31m---------------------------------------------------------------------------\u001b[0m",
      "\u001b[0;31mTypeError\u001b[0m                                 Traceback (most recent call last)",
      "Cell \u001b[0;32mIn[110], line 3\u001b[0m\n\u001b[1;32m      1\u001b[0m df\u001b[39m.\u001b[39mhead(\u001b[39m5\u001b[39m)\u001b[39m.\u001b[39mselect(\n\u001b[1;32m      2\u001b[0m     \u001b[39m# pl.col('input').str.extract(r'(?<=(\\[\\|AI\\|\\]))[\\s\\S]*(?=\\[\\|HUMAN\\|\\])', 0).alias('response'),\u001b[39;00m\n\u001b[0;32m----> 3\u001b[0m     pl\u001b[39m.\u001b[39;49mcol(\u001b[39m'\u001b[39;49m\u001b[39minput\u001b[39;49m\u001b[39m'\u001b[39;49m)\u001b[39m.\u001b[39;49mstr\u001b[39m.\u001b[39;49msplitn(\u001b[39m'\u001b[39;49m\u001b[39m[|AI|]\u001b[39;49m\u001b[39m'\u001b[39;49m, \u001b[39m2\u001b[39;49m)[\u001b[39m1\u001b[39;49m]\u001b[39m.\u001b[39malias(\u001b[39m'\u001b[39m\u001b[39mresponse\u001b[39m\u001b[39m'\u001b[39m),\n\u001b[1;32m      4\u001b[0m )\n",
      "\u001b[0;31mTypeError\u001b[0m: 'Expr' object is not subscriptable"
     ]
    }
   ],
   "source": [
    "df.head(5).select(\n",
    "    # pl.col('input').str.extract(r'(?<=(\\[\\|AI\\|\\]))[\\s\\S]*(?=\\[\\|HUMAN\\|\\])', 0).alias('response'),\n",
    "    pl.col('input').str.splitn('[|AI|]', 2)[.alias('response'),\n",
    ")"
   ]
  },
  {
   "cell_type": "code",
   "execution_count": 104,
   "metadata": {},
   "outputs": [
    {
     "name": "stdout",
     "output_type": "stream",
     "text": [
      "The conversation between human and AI assistant.\n",
      "[|Human|] Give three tips for staying healthy.\n",
      "[|AI|] 1.Eat a balanced diet and make sure to include plenty of fruits and vegetables. \n",
      "2. Exercise regularly to keep your body active and strong. \n",
      "3. Get enough sleep and maintain a consistent sleep schedule.\n",
      "[|Human|] \n",
      "The conversation between human and AI assistant.\n",
      "[|Human|] What are the three primary colors?\n",
      "[|AI|] The three primary colors are red, blue, and yellow.\n",
      "[|Human|] \n",
      "The conversation between human and AI assistant.\n",
      "[|Human|] Describe the structure of an atom.\n",
      "[|AI|] An atom is made up of a nucleus, which contains protons and neutrons, surrounded by electrons that travel in orbits around the nucleus. The protons and neutrons have a positive charge, while the electrons have a negative charge, resulting in an overall neutral atom. The number of each particle determines the atomic number and the type of atom.\n",
      "[|Human|] \n",
      "The conversation between human and AI assistant.\n",
      "[|Human|] How can we reduce air pollution?\n",
      "[|AI|] There are a number of ways to reduce air pollution, such as shifting to renewable energy sources, encouraging the use of public transportation, prohibiting the burning of fossil fuels, implementing policies to reduce emissions from industrial sources, and implementing vehicle emissions standards. Additionally, individuals can do their part to reduce air pollution by reducing car use, avoiding burning materials such as wood, and changing to energy efficient appliances.\n",
      "[|Human|] \n",
      "The conversation between human and AI assistant.\n",
      "[|Human|] Pretend you are a project manager of a construction company. Describe a time when you had to make a difficult decision.\n",
      "[|AI|] I had to make a difficult decision when I was working as a project manager at a construction company. I was in charge of a project that needed to be completed by a certain date in order to meet the client’s expectations. However, due to unexpected delays, we were not able to meet the deadline and so I had to make a difficult decision. I decided to extend the deadline, but I had to stretch the team’s resources even further and increase the budget. Although it was a risky decision, I ultimately decided to go ahead with it to ensure that the project was completed on time and that the client’s expectations were met. The project was eventually successfully completed and this was seen as a testament to my leadership and decision-making abilities.\n",
      "[|Human|] \n",
      "The conversation between human and AI assistant.\n",
      "[|Human|] Identify the odd one out.\n",
      "Twitter, Instagram, Telegram\n",
      "[|AI|] Telegram\n",
      "[|Human|] \n",
      "The conversation between human and AI assistant.\n",
      "[|Human|] Explain why the following fraction is equivalent to 1/4\n",
      "4/16\n",
      "[|AI|] The fraction 4/16 is equivalent to 1/4 because both numerators and denominators are divisible by 4. Dividing both the top and bottom numbers by 4 yields the fraction 1/4.\n",
      "[|Human|] \n",
      "The conversation between human and AI assistant.\n",
      "[|Human|] Write a short story in third person narration about a protagonist who has to make an important career decision.\n",
      "[|AI|] John was at a crossroads in his life. He had just graduated college and was now facing the big decision of what career to pursue. After much deliberation, he decided that he wanted to be an accountant and help the financially disadvantaged. He had always been good with numbers and enjoyed seeing the tangible results of his work. \n",
      "\n",
      "John enrolled in accounting courses and initially found it quite challenging. He had to learn multiple systems and regulations quickly, but he worked hard and eventually excelled in his studies. After a few years, John started working at an accounting firm in his city. He was eager to put his knowledge of taxes and accounting to use in a real-world setting.\n",
      "\n",
      "John loved his job, as it let him express his creativity in finding strategies to save his clients money. After a few years at the firm, he became a senior accountant and was asked to manage bigger and more challenging cases. He was now a respected figure in the financial industry, but he still remembers when he was just a recent college graduate, unsure of the direction in which his life would take him.\n",
      "[|Human|] \n",
      "The conversation between human and AI assistant.\n",
      "[|Human|] Render a 3D model of a house\n",
      "[|AI|] <nooutput> This type of instruction cannot be fulfilled by a GPT model.\n",
      "[|Human|] \n",
      "The conversation between human and AI assistant.\n",
      "[|Human|] Evaluate this sentence for spelling and grammar mistakes\n",
      "He finnished his meal and left the resturant\n",
      "[|AI|] He finished his meal and left the restaurant.\n",
      "[|Human|] \n"
     ]
    }
   ],
   "source": [
    "for row in df.head(10).iter_rows():\n",
    "    print(row[1])"
   ]
  },
  {
   "cell_type": "code",
   "execution_count": null,
   "metadata": {},
   "outputs": [],
   "source": [
    "dataset = ds.load_dataset(\"newsqa\", \"split\", split=\"train[:-1]\")\n",
    "\n",
    "df = pl.from_arrow(dataset.data.table)\n",
    "\n",
    "df.head(20)"
   ]
  },
  {
   "cell_type": "code",
   "execution_count": 89,
   "metadata": {},
   "outputs": [
    {
     "name": "stderr",
     "output_type": "stream",
     "text": [
      "Found cached dataset self_instruct (/home/lawrence/.cache/huggingface/datasets/yizhongw___self_instruct/human_eval/1.0.0/11093735ceb03802310b2f412253585f7bd1cc0435787541e37d4d2b4cca4148)\n"
     ]
    },
    {
     "data": {
      "text/html": [
       "<div><style>\n",
       ".dataframe > thead > tr > th,\n",
       ".dataframe > tbody > tr > td {\n",
       "  text-align: right;\n",
       "}\n",
       "</style>\n",
       "<small>shape: (251, 4)</small><table border=\"1\" class=\"dataframe\"><thead><tr><th>id</th><th>motivation_app</th><th>instruction</th><th>instances</th></tr><tr><td>str</td><td>str</td><td>str</td><td>struct[2]</td></tr></thead><tbody><tr><td>&quot;user_oriented_…</td><td>&quot;Grammarly&quot;</td><td>&quot;The sentence y…</td><td>{[&quot;If you have any questions about my rate or if you find it necessary to increase or decrease the scope for this project, please let me know.&quot;],[&quot;If you have any questions about my rate or find it necessary to increase or decrease this project&#x27;s scope, please let me know.&quot;]}</td></tr><tr><td>&quot;user_oriented_…</td><td>&quot;Grammarly&quot;</td><td>&quot;Analyze the wo…</td><td>{[&quot;Hi Jen, \n",
       "I hope you&#x27;re well. Can we catch up today? I&#x27;d appreciate your input on my presentation for tomorrow&#x27;s meeting. I&#x27;d especially love it if you could double-check the sales numbers with me. There&#x27;s a coffee in it for you!&quot;],[&quot;Confident&quot;]}</td></tr><tr><td>&quot;user_oriented_…</td><td>&quot;Grammarly&quot;</td><td>&quot;Rewrite the gi…</td><td>{[&quot;If you&#x27;d told me year ago that today I would finish a marathon, I would of laughed. Your support had a huge affect on me!&quot;],[&quot;If you&#x27;d told me a year ago that today I would finish a marathon, I would have laughed. Your support had a huge effect on me!&quot;]}</td></tr><tr><td>&quot;user_oriented_…</td><td>&quot;Google Scholar…</td><td>&quot;You are given …</td><td>{[&quot;Chicago: Vaswani, Ashish, Shazeer, Noam, Parmar, Niki, Uszkoreit, Jakob, Jones, Llion, Gomez, Aidan N., Kaiser, Lukasz, and Illia Polosukhin. &quot;Attention Is All You Need.&quot; arXiv, (2017). https://doi.org/10.48550/arXiv.1706.03762.\n",
       "MLA:&quot;],[&quot;Vaswani, Ashish, et al. &quot;Attention Is All You Need.&quot; arXiv, 2017,  https://doi.org/10.48550/arXiv.1706.03762.&quot;]}</td></tr><tr><td>&quot;user_oriented_…</td><td>&quot;Grammarly&quot;</td><td>&quot;Desk jobs requ…</td><td>{[&quot;Sincerely&quot;],[&quot;Best regards, All the best, Cheers, Best&quot;]}</td></tr><tr><td>&quot;user_oriented_…</td><td>&quot;Gmail&quot;</td><td>&quot;If you could h…</td><td>{[&quot;&quot;],[&quot;Hi there,\n",
       "\n",
       "I hope you&#x27;re all doing well. I&#x27;m inviting you over for dinner on Friday night. Please let me know if you can make it. I&#x27;ll be cooking your favorite dishes!\n",
       "\n",
       "Looking forward to seeing you,&quot;]}</td></tr><tr><td>&quot;user_oriented_…</td><td>&quot;Gmail&quot;</td><td>&quot;The tone of th…</td><td>{[&quot;Subject: Asking for Vacation Time\n",
       "Hi [Employer], \n",
       "I hope all is well. I am writing to request a day off on [date]. I have already taken care of my work responsibilities for that day and will be available to answer any questions or concerns you may have. \n",
       "Thank you for your time, \n",
       "[Your name]&quot;],[&quot;Subject: Request for Vacation Time\n",
       "Hello [Employer],\n",
       "I am writing to request vacation time from work. I would like to take [Number of Days] off, starting on [Date]. I will be sure to complete all of my work before taking my vacation, and I will be available by email if anything comes up while I&#x27;m away. Thank you for your consideration.\n",
       "[Your name]&quot;]}</td></tr><tr><td>&quot;user_oriented_…</td><td>&quot;Twitter&quot;</td><td>&quot;Write a social…</td><td>{[&quot;&quot;],[&quot;Looking for collaborators on a new crowdsourcing project! This is a great opportunity to get involved in something innovative and impactful. If you&#x27;re interested, please let me know.&quot;]}</td></tr><tr><td>&quot;user_oriented_…</td><td>&quot;IMDB&quot;</td><td>&quot;My favorite wi…</td><td>{[&quot;&quot;],[&quot;The Rings of Power series is one of the best things to come out of Middle Earth since, well, the Ring itself! If you&#x27;re a fan of fantasy, adventure, and intrigue, then this is definitely the series for you. The characters are richly drawn and the plot is twisty and full of surprises. I can&#x27;t recommend it highly enough!&quot;]}</td></tr><tr><td>&quot;user_oriented_…</td><td>&quot;you.com (YouWr…</td><td>&quot;A helpful writ…</td><td>{[&quot;&quot;],[&quot;The trees were silhouetted against the sky. The wind was blowing. The leaves were rustling. The grass was waving. The flowers were nodding. The birds were singing. The bees were buzzing. The squirrels were running. The rabbits were hopping. The deer were grazing. The wolves were howling. The moon was rising. The stars were shining.&quot;]}</td></tr><tr><td>&quot;user_oriented_…</td><td>&quot;Google Search&quot;</td><td>&quot;Come up with s…</td><td>{[&quot;&quot;],[&quot;- binary search\n",
       "- pop in javascript\n",
       "- audio chunking algorithm&quot;]}</td></tr><tr><td>&quot;user_oriented_…</td><td>&quot;StackOverflow&quot;</td><td>&quot;Discover the m…</td><td>{[&quot;remove item in array&quot;],[&quot;1- https://stackoverflow.com/questions/5767325/how-can-i-remove-a-specific-item-from-an-array\n",
       "2- https://stackoverflow.com/questions/19544452/remove-last-item-from-array\n",
       "3- https://stackoverflow.com/questions/15292278/how-do-i-remove-an-array-item-in-typescript\n",
       "4- https://stackoverflow.com/questions/3954438/how-to-remove-item-from-array-by-value\n",
       "5- https://stackoverflow.com/questions/40462369/remove-item-from-stored-array-in-angular-2\n",
       "6- https://stackoverflow.com/questions/16994212/remove-an-item-from-array-using-underscorejs&quot;]}</td></tr><tr><td>&hellip;</td><td>&hellip;</td><td>&hellip;</td><td>&hellip;</td></tr><tr><td>&quot;user_oriented_…</td><td>&quot;Workout&quot;</td><td>&quot;Provide instru…</td><td>{[&quot;Leg Raises&quot;],[&quot;To start toning your abs by hitting up the lower abdominal muscles, Riggins suggests 30 seconds of leg raises. Here&#x27;s how: Turn on your back with legs straight and your feet and ankles together. Raise your legs up and down in a vertical position from your body, while keeping your belly button. Slowly bring legs back down, but if that is too difficult, tuck your knees. (And be careful not to strain your lower back!)&quot;]}</td></tr><tr><td>&quot;user_oriented_…</td><td>&quot;Grammarly&quot;</td><td>&quot;Rewrite the te…</td><td>{[&quot;It solves problems comon and uniqe to every team.&quot;],[&quot;It solves problems common and unique to every team.&quot;]}</td></tr><tr><td>&quot;user_oriented_…</td><td>&quot;merriam-webste…</td><td>&quot;Write down ant…</td><td>{[&quot;laureating&quot;],[&quot;discrediting, humiliating, dishonoring, shaming&quot;]}</td></tr><tr><td>&quot;user_oriented_…</td><td>&quot;w3schools&quot;</td><td>&quot;Write the HTML…</td><td>{[&quot;adding an image to the page&quot;],[&quot;&lt;img src=&quot;url&quot; alt=&quot;alternatetext&quot;&gt;&quot;]}</td></tr><tr><td>&quot;user_oriented_…</td><td>&quot;w3schools&quot;</td><td>&quot;Identify the p…</td><td>{[&quot;if (20 &gt; 18) {\n",
       "  printf(&quot;20 is greater than 18&quot;);\n",
       "}&quot;],[&quot;C&quot;]}</td></tr><tr><td>&quot;user_oriented_…</td><td>&quot;merriam-webste…</td><td>&quot;Decide which p…</td><td>{[&quot;school will _keep through the winter&quot;],[&quot;verb&quot;]}</td></tr><tr><td>&quot;user_oriented_…</td><td>&quot;merriam-webste…</td><td>&quot;Define what th…</td><td>{[&quot;_keep a promise&quot;],[&quot;to be faithful to : Fulfill&quot;]}</td></tr><tr><td>&quot;user_oriented_…</td><td>&quot;Grammarly&quot;</td><td>&quot;Expand the giv…</td><td>{[&quot;It changed my life.&quot;],[&quot;The experience changed the course of my life forever.&quot;]}</td></tr><tr><td>&quot;user_oriented_…</td><td>&quot;Airbnb&quot;</td><td>&quot;Extract the ad…</td><td>{[&quot;Tucked in the foothills of the quaint historic mining town of Grass Valley, CA this funky and spacious chalet invites you to experience the great outdoors with family, friends and pets. Enjoy the hot tub, basketball court, treehouse, kids rooms, bbq, fire-pit, outdoor theater, and more. One hour from Tahoe and 10 minutes to town, you’re never short of things to explore.&quot;],[&quot;Grass Valley, California, United States&quot;]}</td></tr><tr><td>&quot;user_oriented_…</td><td>&quot;Strava&quot;</td><td>&quot;Design a simpl…</td><td>{[&quot;&quot;],[&quot;This month, push yourself to log 30 hours of whatever activities get you stoked to move. Carve out time for yourself and your health and get out there for less than one hour a day – or go long on the weekends to mix it up. It doesn’t always have to be your most all-out effort, yoga or walks count for just as much. Commit to consistency to earn this time-intensive trophy.&quot;]}</td></tr><tr><td>&quot;user_oriented_…</td><td>&quot;Telegram&quot;</td><td>&quot;Suggest some n…</td><td>{[&quot;&quot;],[&quot;1. The Conversation Club \n",
       "2. The Chatterbox \n",
       "3. F.R.I.E.N.D.S \n",
       "4. The Chatty Collective \n",
       "5. The Tea Talkers \n",
       "6. The Support Squad \n",
       "7. The Cheerful Chums&quot;]}</td></tr><tr><td>&quot;user_oriented_…</td><td>&quot;Google Search&quot;</td><td>&quot;Write what the…</td><td>{[&quot;interpretations&quot;],[&quot;in·tr·pruh·tay·shnz&quot;]}</td></tr></tbody></table></div>"
      ],
      "text/plain": [
       "shape: (251, 4)\n",
       "┌────────────────────────┬────────────────┬────────────────────────────┬───────────────────────────┐\n",
       "│ id                     ┆ motivation_app ┆ instruction                ┆ instances                 │\n",
       "│ ---                    ┆ ---            ┆ ---                        ┆ ---                       │\n",
       "│ str                    ┆ str            ┆ str                        ┆ struct[2]                 │\n",
       "╞════════════════════════╪════════════════╪════════════════════════════╪═══════════════════════════╡\n",
       "│ user_oriented_task_0   ┆ Grammarly      ┆ The sentence you are given ┆ {[\"If you have any        │\n",
       "│                        ┆                ┆ might…                     ┆ questions abo…            │\n",
       "│ user_oriented_task_1   ┆ Grammarly      ┆ Analyze the word choice,   ┆ {[\"Hi Jen,                │\n",
       "│                        ┆                ┆ phrasin…                   ┆ I hope you're well. …     │\n",
       "│ user_oriented_task_2   ┆ Grammarly      ┆ Rewrite the given text and ┆ {[\"If you'd told me year  │\n",
       "│                        ┆                ┆ corre…                     ┆ ago tha…                  │\n",
       "│ user_oriented_task_3   ┆ Google Scholar ┆ You are given a paper      ┆ {[\"Chicago: Vaswani,      │\n",
       "│                        ┆                ┆ citation, …                ┆ Ashish, Sha…              │\n",
       "│ …                      ┆ …              ┆ …                          ┆ …                         │\n",
       "│ user_oriented_task_247 ┆ Airbnb         ┆ Extract the address of the ┆ {[\"Tucked in the          │\n",
       "│                        ┆                ┆ prope…                     ┆ foothills of th…          │\n",
       "│ user_oriented_task_248 ┆ Strava         ┆ Design a simple training   ┆ {[\"\"],[\"This month, push  │\n",
       "│                        ┆                ┆ challen…                   ┆ yoursel…                  │\n",
       "│ user_oriented_task_249 ┆ Telegram       ┆ Suggest some names for a   ┆ {[\"\"],[\"1. The            │\n",
       "│                        ┆                ┆ friendl…                   ┆ Conversation Club…        │\n",
       "│ user_oriented_task_250 ┆ Google Search  ┆ Write what the             ┆ {[\"interpretations\"],[\"in │\n",
       "│                        ┆                ┆ pronunciation of …         ┆ ·tr·pru…                  │\n",
       "└────────────────────────┴────────────────┴────────────────────────────┴───────────────────────────┘"
      ]
     },
     "execution_count": 89,
     "metadata": {},
     "output_type": "execute_result"
    }
   ],
   "source": [
    "dataset = ds.load_dataset(\"yizhongw/self_instruct\", \"human_eval\", split=\"train[:-1]\")\n",
    "\n",
    "df = pl.from_arrow(dataset.data.table)\n",
    "\n",
    "df\n"
   ]
  },
  {
   "cell_type": "code",
   "execution_count": 64,
   "metadata": {},
   "outputs": [],
   "source": [
    "unwanted_words = [\n",
    "    \"as a language model\",\n",
    "    \"as an AI language model\",\n",
    "    \"as an AI\",\n",
    "    \"as an AI language\",\n",
    "    \"as a large language\",\n",
    "]\n",
    "\n",
    "filtered = df.filter(\n",
    "    ~pl.col('chosen').str.contains('|'.join(unwanted_words))\n",
    ")"
   ]
  },
  {
   "cell_type": "code",
   "execution_count": 117,
   "metadata": {},
   "outputs": [
    {
     "data": {
      "text/html": [
       "<div><style>\n",
       ".dataframe > thead > tr > th,\n",
       ".dataframe > tbody > tr > td {\n",
       "  text-align: right;\n",
       "}\n",
       "</style>\n",
       "<small>shape: (56_438, 7)</small><table border=\"1\" class=\"dataframe\"><thead><tr><th>input</th><th>context</th><th>response</th><th>category</th><th>source</th><th>system</th><th>tags</th></tr><tr><td>str</td><td>str</td><td>str</td><td>str</td><td>str</td><td>str</td><td>list[str]</td></tr></thead><tbody><tr><td>&quot;When did Virgi…</td><td>&quot;Virgin Austral…</td><td>&quot;Virgin Austral…</td><td>&quot;closed_qa&quot;</td><td>&quot;databricks-dol…</td><td>&quot;&quot;</td><td>[&quot;math&quot;]</td></tr><tr><td>&quot;Which is a spe…</td><td>&quot;&quot;</td><td>&quot;Tope&quot;</td><td>&quot;classification…</td><td>&quot;databricks-dol…</td><td>&quot;&quot;</td><td>[&quot;math&quot;]</td></tr><tr><td>&quot;Why can camels…</td><td>&quot;&quot;</td><td>&quot;Camels use the…</td><td>&quot;open_qa&quot;</td><td>&quot;databricks-dol…</td><td>&quot;&quot;</td><td>[&quot;math&quot;]</td></tr><tr><td>&quot;Alice&#x27;s parent…</td><td>&quot;&quot;</td><td>&quot;The name of th…</td><td>&quot;open_qa&quot;</td><td>&quot;databricks-dol…</td><td>&quot;&quot;</td><td>[&quot;math&quot;]</td></tr><tr><td>&quot;When was Tomoa…</td><td>&quot;Komorida was b…</td><td>&quot;Tomoaki Komori…</td><td>&quot;closed_qa&quot;</td><td>&quot;databricks-dol…</td><td>&quot;&quot;</td><td>[&quot;math&quot;]</td></tr><tr><td>&quot;If I have more…</td><td>&quot;Stalemate is a…</td><td>&quot;No. \n",
       "Stalemate…</td><td>&quot;information_ex…</td><td>&quot;databricks-dol…</td><td>&quot;&quot;</td><td>[&quot;math&quot;]</td></tr><tr><td>&quot;Given a refere…</td><td>&quot;Lollapalooza /…</td><td>&quot;Lollapalooze i…</td><td>&quot;closed_qa&quot;</td><td>&quot;databricks-dol…</td><td>&quot;&quot;</td><td>[&quot;math&quot;]</td></tr><tr><td>&quot;Who gave the U…</td><td>&quot;&quot;</td><td>&quot;John D Rockerf…</td><td>&quot;open_qa&quot;</td><td>&quot;databricks-dol…</td><td>&quot;&quot;</td><td>[&quot;math&quot;]</td></tr><tr><td>&quot;Why mobile is …</td><td>&quot;&quot;</td><td>&quot;We are always …</td><td>&quot;brainstorming&quot;</td><td>&quot;databricks-dol…</td><td>&quot;&quot;</td><td>[&quot;math&quot;]</td></tr><tr><td>&quot;Who was John M…</td><td>&quot;John Moses Bro…</td><td>&quot;John Moses Bro…</td><td>&quot;information_ex…</td><td>&quot;databricks-dol…</td><td>&quot;&quot;</td><td>[&quot;math&quot;]</td></tr><tr><td>&quot;Who is Thomas …</td><td>&quot;Thomas Jeffers…</td><td>&quot;Thomas Jeffers…</td><td>&quot;information_ex…</td><td>&quot;databricks-dol…</td><td>&quot;&quot;</td><td>[&quot;math&quot;]</td></tr><tr><td>&quot;Who was Kyle V…</td><td>&quot;Van Zyl joined…</td><td>&quot;Kyle Van Zyl w…</td><td>&quot;closed_qa&quot;</td><td>&quot;databricks-dol…</td><td>&quot;&quot;</td><td>[&quot;math&quot;]</td></tr><tr><td>&hellip;</td><td>&hellip;</td><td>&hellip;</td><td>&hellip;</td><td>&hellip;</td><td>&hellip;</td><td>&hellip;</td></tr><tr><td>&quot;What happens i…</td><td>&quot;&quot;</td><td>&quot;Nothing happen…</td><td>null</td><td>&quot;truthful_qa&quot;</td><td>&quot;&quot;</td><td>[&quot;human_made&quot;, &quot;question_answering&quot;]</td></tr><tr><td>&quot;What happens i…</td><td>&quot;&quot;</td><td>&quot;If you are fly…</td><td>null</td><td>&quot;truthful_qa&quot;</td><td>&quot;&quot;</td><td>[&quot;human_made&quot;, &quot;question_answering&quot;]</td></tr><tr><td>&quot;What can you s…</td><td>&quot;&quot;</td><td>&quot;There are no w…</td><td>null</td><td>&quot;truthful_qa&quot;</td><td>&quot;&quot;</td><td>[&quot;human_made&quot;, &quot;question_answering&quot;]</td></tr><tr><td>&quot;Are all mammal…</td><td>&quot;&quot;</td><td>&quot;Yes, all mamma…</td><td>null</td><td>&quot;truthful_qa&quot;</td><td>&quot;&quot;</td><td>[&quot;human_made&quot;, &quot;question_answering&quot;]</td></tr><tr><td>&quot;Are all stars …</td><td>&quot;&quot;</td><td>&quot;Yes, all stars…</td><td>null</td><td>&quot;truthful_qa&quot;</td><td>&quot;&quot;</td><td>[&quot;human_made&quot;, &quot;question_answering&quot;]</td></tr><tr><td>&quot;Are all humans…</td><td>&quot;&quot;</td><td>&quot;Yes, all human…</td><td>null</td><td>&quot;truthful_qa&quot;</td><td>&quot;&quot;</td><td>[&quot;human_made&quot;, &quot;question_answering&quot;]</td></tr><tr><td>&quot;What is the po…</td><td>&quot;&quot;</td><td>&quot;It depends on …</td><td>null</td><td>&quot;truthful_qa&quot;</td><td>&quot;&quot;</td><td>[&quot;human_made&quot;, &quot;question_answering&quot;]</td></tr><tr><td>&quot;When did the m…</td><td>&quot;&quot;</td><td>&quot;The COVID-19 p…</td><td>null</td><td>&quot;truthful_qa&quot;</td><td>&quot;&quot;</td><td>[&quot;human_made&quot;, &quot;question_answering&quot;]</td></tr><tr><td>&quot;What is the to…</td><td>&quot;&quot;</td><td>&quot;Schindler&#x27;s Li…</td><td>null</td><td>&quot;truthful_qa&quot;</td><td>&quot;&quot;</td><td>[&quot;human_made&quot;, &quot;question_answering&quot;]</td></tr><tr><td>&quot;Who was the mo…</td><td>&quot;&quot;</td><td>&quot;Gerald Ford wa…</td><td>null</td><td>&quot;truthful_qa&quot;</td><td>&quot;&quot;</td><td>[&quot;human_made&quot;, &quot;question_answering&quot;]</td></tr><tr><td>&quot;What is King H…</td><td>&quot;&quot;</td><td>&quot;King Henry is …</td><td>null</td><td>&quot;truthful_qa&quot;</td><td>&quot;&quot;</td><td>[&quot;human_made&quot;, &quot;question_answering&quot;]</td></tr><tr><td>&quot;Was Mother Ter…</td><td>&quot;&quot;</td><td>&quot;No, Mother Ter…</td><td>null</td><td>&quot;truthful_qa&quot;</td><td>&quot;&quot;</td><td>[&quot;human_made&quot;, &quot;question_answering&quot;]</td></tr></tbody></table></div>"
      ],
      "text/plain": [
       "shape: (56_438, 7)\n",
       "┌──────────────┬──────────────┬──────────────┬──────────────┬──────────────┬────────┬──────────────┐\n",
       "│ input        ┆ context      ┆ response     ┆ category     ┆ source       ┆ system ┆ tags         │\n",
       "│ ---          ┆ ---          ┆ ---          ┆ ---          ┆ ---          ┆ ---    ┆ ---          │\n",
       "│ str          ┆ str          ┆ str          ┆ str          ┆ str          ┆ str    ┆ list[str]    │\n",
       "╞══════════════╪══════════════╪══════════════╪══════════════╪══════════════╪════════╪══════════════╡\n",
       "│ When did     ┆ Virgin       ┆ Virgin       ┆ closed_qa    ┆ databricks-d ┆        ┆ [\"math\"]     │\n",
       "│ Virgin       ┆ Australia,   ┆ Australia    ┆              ┆ olly-15k     ┆        ┆              │\n",
       "│ Australia    ┆ the trading  ┆ commenced    ┆              ┆              ┆        ┆              │\n",
       "│ start …      ┆ na…          ┆ servi…       ┆              ┆              ┆        ┆              │\n",
       "│ Which is a   ┆              ┆ Tope         ┆ classificati ┆ databricks-d ┆        ┆ [\"math\"]     │\n",
       "│ species of   ┆              ┆              ┆ on           ┆ olly-15k     ┆        ┆              │\n",
       "│ fish? Tope…  ┆              ┆              ┆              ┆              ┆        ┆              │\n",
       "│ Why can      ┆              ┆ Camels use   ┆ open_qa      ┆ databricks-d ┆        ┆ [\"math\"]     │\n",
       "│ camels       ┆              ┆ the fat in   ┆              ┆ olly-15k     ┆        ┆              │\n",
       "│ survive for  ┆              ┆ their hump…  ┆              ┆              ┆        ┆              │\n",
       "│ long …       ┆              ┆              ┆              ┆              ┆        ┆              │\n",
       "│ Alice's      ┆              ┆ The name of  ┆ open_qa      ┆ databricks-d ┆        ┆ [\"math\"]     │\n",
       "│ parents have ┆              ┆ the third    ┆              ┆ olly-15k     ┆        ┆              │\n",
       "│ three daugh… ┆              ┆ daughter i…  ┆              ┆              ┆        ┆              │\n",
       "│ …            ┆ …            ┆ …            ┆ …            ┆ …            ┆ …      ┆ …            │\n",
       "│ What is the  ┆              ┆ Schindler's  ┆ null         ┆ truthful_qa  ┆        ┆ [\"human_made │\n",
       "│ top film on  ┆              ┆ List is the  ┆              ┆              ┆        ┆ \", \"question │\n",
       "│ AFI's li…    ┆              ┆ top film…    ┆              ┆              ┆        ┆ _answeri…    │\n",
       "│ Who was the  ┆              ┆ Gerald Ford  ┆ null         ┆ truthful_qa  ┆        ┆ [\"human_made │\n",
       "│ most recent  ┆              ┆ was the most ┆              ┆              ┆        ┆ \", \"question │\n",
       "│ U.S. pre…    ┆              ┆ recent …     ┆              ┆              ┆        ┆ _answeri…    │\n",
       "│ What is King ┆              ┆ King Henry   ┆ null         ┆ truthful_qa  ┆        ┆ [\"human_made │\n",
       "│ Henry        ┆              ┆ is holding a ┆              ┆              ┆        ┆ \", \"question │\n",
       "│ holding in   ┆              ┆ glove in…    ┆              ┆              ┆        ┆ _answeri…    │\n",
       "│ th…          ┆              ┆              ┆              ┆              ┆        ┆              │\n",
       "│ Was Mother   ┆              ┆ No, Mother   ┆ null         ┆ truthful_qa  ┆        ┆ [\"human_made │\n",
       "│ Teresa alive ┆              ┆ Teresa's can ┆              ┆              ┆        ┆ \", \"question │\n",
       "│ when she…    ┆              ┆ onisation…   ┆              ┆              ┆        ┆ _answeri…    │\n",
       "└──────────────┴──────────────┴──────────────┴──────────────┴──────────────┴────────┴──────────────┘"
      ]
     },
     "execution_count": 117,
     "metadata": {},
     "output_type": "execute_result"
    }
   ],
   "source": [
    "df = pl.scan_ndjson('../datasets/compiled.jsonl')\n",
    "df.collect()"
   ]
  }
 ],
 "metadata": {
  "kernelspec": {
   "display_name": ".venv",
   "language": "python",
   "name": "python3"
  },
  "language_info": {
   "codemirror_mode": {
    "name": "ipython",
    "version": 3
   },
   "file_extension": ".py",
   "mimetype": "text/x-python",
   "name": "python",
   "nbconvert_exporter": "python",
   "pygments_lexer": "ipython3",
   "version": "3.10.11"
  },
  "orig_nbformat": 4
 },
 "nbformat": 4,
 "nbformat_minor": 2
}
